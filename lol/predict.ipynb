{
 "cells": [
  {
   "cell_type": "markdown",
   "id": "797ab455",
   "metadata": {},
   "source": [
    "# Analyse de game professionelles de League of Legends"
   ]
  },
  {
   "cell_type": "code",
   "execution_count": 1,
   "id": "35c7618d",
   "metadata": {},
   "outputs": [
    {
     "name": "stdout",
     "output_type": "stream",
     "text": [
      "Il y a 8971 parties prêtes à l'analyse.\n"
     ]
    }
   ],
   "source": [
    "import pandas as pd \n",
    "\n",
    "dataset = pd.read_csv(\"data/lol_pre_match_dataset.csv\").dropna()\n",
    "print(f\"Il y a {len(dataset)} parties prêtes à l'analyse.\")\n",
    "mapped_dataset = dataset.copy()"
   ]
  },
  {
   "cell_type": "code",
   "execution_count": 5,
   "id": "6b116eab",
   "metadata": {},
   "outputs": [
    {
     "name": "stdout",
     "output_type": "stream",
     "text": [
      "Pour chaque ligne, voici les informaions que l'on a :\n",
      "['gameid', 'team_blue', 'team_red', 'pick_blue_1', 'pick_blue_2', 'pick_blue_3', 'pick_blue_4', 'pick_blue_5', 'pick_red_1', 'pick_red_2', 'pick_red_3', 'pick_red_4', 'pick_red_5', 'ban_blue_1', 'ban_blue_2', 'ban_blue_3', 'ban_blue_4', 'ban_blue_5', 'ban_red_1', 'ban_red_2', 'ban_red_3', 'ban_red_4', 'ban_red_5', 'result']\n"
     ]
    }
   ],
   "source": [
    "print(f\"Pour chaque ligne, voici les informaions que l'on a :\\n{[col for col in dataset.columns]}\")\n",
    "# 0 = Blue win, 1 = Red win"
   ]
  },
  {
   "cell_type": "code",
   "execution_count": 3,
   "id": "5f0c7535",
   "metadata": {},
   "outputs": [
    {
     "name": "stdout",
     "output_type": "stream",
     "text": [
      "Nous allons mapper aléatoirement le nom des 169 champions utilisés dans le dataset.\n",
      "Voici un exemple de mapping : [('Graves', 0), ('Hwei', 1), ('Nocturne', 2), ('Senna', 3), ('Alistar', 4)]\n",
      "\n",
      "Voici un exemple de ligne du dataset mappé :\n",
      "gameid         10660-10660_game_1\n",
      "team_blue             LNG Esports\n",
      "team_red                Rare Atom\n",
      "pick_blue_1                   145\n",
      "pick_blue_2                    63\n",
      "pick_blue_3                   104\n",
      "pick_blue_4                   121\n",
      "pick_blue_5                     3\n",
      "pick_red_1                     30\n",
      "pick_red_2                    129\n",
      "pick_red_3                    107\n",
      "pick_red_4                     97\n",
      "pick_red_5                     39\n",
      "ban_blue_1                     67\n",
      "ban_blue_2                      2\n",
      "ban_blue_3                    140\n",
      "ban_blue_4                     47\n",
      "ban_blue_5                     28\n",
      "ban_red_1                       6\n",
      "ban_red_2                      82\n",
      "ban_red_3                     167\n",
      "ban_red_4                     162\n",
      "ban_red_5                     109\n",
      "result                          1\n",
      "Name: 0, dtype: object\n"
     ]
    }
   ],
   "source": [
    "# Liste de tous les champions_set qui apparaissent dans le dataset\n",
    "# Liste de tous les champions qui apparaissent dans le dataset\n",
    "champions_set = set()\n",
    "for col in [\n",
    "    \"pick_blue_1\", \"pick_blue_2\", \"pick_blue_3\", \"pick_blue_4\", \"pick_blue_5\",\n",
    "    \"pick_red_1\", \"pick_red_2\", \"pick_red_3\", \"pick_red_4\", \"pick_red_5\",\n",
    "    \"ban_blue_1\", \"ban_blue_2\", \"ban_blue_3\", \"ban_blue_4\", \"ban_blue_5\",\n",
    "    \"ban_red_1\", \"ban_red_2\", \"ban_red_3\", \"ban_red_4\", \"ban_red_5\"\n",
    "]:\n",
    "    for champ in dataset[col]:\n",
    "        champ = str(champ).strip()\n",
    "        if champ:\n",
    "            champions_set.add(champ)\n",
    "\n",
    "print(f\"Nous allons mapper aléatoirement le nom des {len(champions_set)} champions utilisés dans le dataset.\")\n",
    "champions_dict = {champ: id for id, champ in enumerate(champions_set)}\n",
    "print(f\"Voici un exemple de mapping : {list(champions_dict.items())[:5]}\")\n",
    "\n",
    "# Remplacement des noms par les IDs dans chaque colonne pick/ban\n",
    "for col in [\n",
    "    \"pick_blue_1\", \"pick_blue_2\", \"pick_blue_3\", \"pick_blue_4\", \"pick_blue_5\",\n",
    "    \"pick_red_1\", \"pick_red_2\", \"pick_red_3\", \"pick_red_4\", \"pick_red_5\",\n",
    "    \"ban_blue_1\", \"ban_blue_2\", \"ban_blue_3\", \"ban_blue_4\", \"ban_blue_5\",\n",
    "    \"ban_red_1\", \"ban_red_2\", \"ban_red_3\", \"ban_red_4\", \"ban_red_5\"\n",
    "]:\n",
    "    mapped_dataset[col] = dataset[col].apply(lambda x: champions_dict.get(str(x).strip(), -1))\n",
    "\n",
    "print(f\"\\nVoici un exemple de ligne du dataset mappé :\\n{mapped_dataset.iloc[0]}\")\n"
   ]
  },
  {
   "cell_type": "code",
   "execution_count": 4,
   "id": "d7443c0f",
   "metadata": {},
   "outputs": [
    {
     "name": "stdout",
     "output_type": "stream",
     "text": [
      "Idem pour les 469 noms d'équipe.\n",
      "Voici un exemple de mapping : [('V3 Esports', 0), ('OKSavingsBank BRION Academy', 1), ('Team DX', 2)]\n",
      "\n",
      "Voici un exemple de ligne du dataset mappé :\n",
      "gameid         10660-10660_game_1\n",
      "team_blue                      28\n",
      "team_red                      377\n",
      "pick_blue_1                   145\n",
      "pick_blue_2                    63\n",
      "pick_blue_3                   104\n",
      "pick_blue_4                   121\n",
      "pick_blue_5                     3\n",
      "pick_red_1                     30\n",
      "pick_red_2                    129\n",
      "pick_red_3                    107\n",
      "pick_red_4                     97\n",
      "pick_red_5                     39\n",
      "ban_blue_1                     67\n",
      "ban_blue_2                      2\n",
      "ban_blue_3                    140\n",
      "ban_blue_4                     47\n",
      "ban_blue_5                     28\n",
      "ban_red_1                       6\n",
      "ban_red_2                      82\n",
      "ban_red_3                     167\n",
      "ban_red_4                     162\n",
      "ban_red_5                     109\n",
      "result                          1\n",
      "Name: 0, dtype: object\n"
     ]
    }
   ],
   "source": [
    "teams_set = set()\n",
    "for col in [\"team_blue\", \"team_red\"]:\n",
    "    for cell in dataset[col]:\n",
    "        if isinstance(cell, str):\n",
    "            teams_set.add(cell.strip())\n",
    "print(f\"Idem pour les {len(teams_set)} noms d'équipe.\")\n",
    "teams_dict = {}\n",
    "for id, team in enumerate(teams_set):\n",
    "    teams_dict[team] = id\n",
    "print(f\"Voici un exemple de mapping : {list(teams_dict.items())[:3]}\")\n",
    "def change_teams_ids(teams):\n",
    "    return teams_dict.get(teams, -1)\n",
    "for col in [\"team_blue\", \"team_red\"]:\n",
    "    mapped_dataset[col] = dataset[col].apply(change_teams_ids)\n",
    "print(\"\")\n",
    "print(f\"Voici un exemple de ligne du dataset mappé :\\n{mapped_dataset.iloc[0]}\")"
   ]
  }
 ],
 "metadata": {
  "kernelspec": {
   "display_name": "ml",
   "language": "python",
   "name": "python3"
  },
  "language_info": {
   "codemirror_mode": {
    "name": "ipython",
    "version": 3
   },
   "file_extension": ".py",
   "mimetype": "text/x-python",
   "name": "python",
   "nbconvert_exporter": "python",
   "pygments_lexer": "ipython3",
   "version": "3.12.11"
  }
 },
 "nbformat": 4,
 "nbformat_minor": 5
}
