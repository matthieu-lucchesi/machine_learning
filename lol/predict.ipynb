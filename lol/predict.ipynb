{
 "cells": [
  {
   "cell_type": "markdown",
   "id": "797ab455",
   "metadata": {},
   "source": [
    "# Analyse de game professionelles de League of Legends"
   ]
  },
  {
   "cell_type": "code",
   "execution_count": 1,
   "id": "35c7618d",
   "metadata": {},
   "outputs": [
    {
     "name": "stdout",
     "output_type": "stream",
     "text": [
      "Il y a 8971 parties prêtes à l'analyse.\n"
     ]
    }
   ],
   "source": [
    "import pandas as pd \n",
    "\n",
    "dataset = pd.read_csv(\"data/lol_pre_match_dataset.csv\").dropna()\n",
    "print(f\"Il y a {len(dataset)} parties prêtes à l'analyse.\")\n",
    "mapped_dataset = dataset.copy()"
   ]
  },
  {
   "cell_type": "code",
   "execution_count": 2,
   "id": "6b116eab",
   "metadata": {},
   "outputs": [
    {
     "name": "stdout",
     "output_type": "stream",
     "text": [
      "Pour chaque ligne, voici les informaions que l'on a :\n",
      "['gameid', 'team_blue', 'team_red', 'league', 'patch', 'pick_blue_1', 'pick_blue_2', 'pick_blue_3', 'pick_blue_4', 'pick_blue_5', 'pick_red_1', 'pick_red_2', 'pick_red_3', 'pick_red_4', 'pick_red_5', 'ban_blue_1', 'ban_blue_2', 'ban_blue_3', 'ban_blue_4', 'ban_blue_5', 'ban_red_1', 'ban_red_2', 'ban_red_3', 'ban_red_4', 'ban_red_5', 'result']\n"
     ]
    }
   ],
   "source": [
    "print(f\"Pour chaque ligne, voici les informaions que l'on a :\\n{[col for col in dataset.columns]}\")\n",
    "# 0 = Blue win, 1 = Red win"
   ]
  },
  {
   "cell_type": "code",
   "execution_count": 3,
   "id": "5f0c7535",
   "metadata": {},
   "outputs": [
    {
     "name": "stdout",
     "output_type": "stream",
     "text": [
      "Nous allons mapper aléatoirement le nom des 169 champions utilisés dans le dataset.\n"
     ]
    }
   ],
   "source": [
    "# Liste de tous les champions_set qui apparaissent dans le dataset\n",
    "# Liste de tous les champions qui apparaissent dans le dataset\n",
    "champions_set = set()\n",
    "for col in [\n",
    "    \"pick_blue_1\", \"pick_blue_2\", \"pick_blue_3\", \"pick_blue_4\", \"pick_blue_5\",\n",
    "    \"pick_red_1\", \"pick_red_2\", \"pick_red_3\", \"pick_red_4\", \"pick_red_5\",\n",
    "    \"ban_blue_1\", \"ban_blue_2\", \"ban_blue_3\", \"ban_blue_4\", \"ban_blue_5\",\n",
    "    \"ban_red_1\", \"ban_red_2\", \"ban_red_3\", \"ban_red_4\", \"ban_red_5\"\n",
    "]:\n",
    "    for champ in dataset[col]:\n",
    "        champ = str(champ).strip()\n",
    "        if champ:\n",
    "            champions_set.add(champ)\n",
    "\n",
    "print(f\"Nous allons mapper aléatoirement le nom des {len(champions_set)} champions utilisés dans le dataset.\")\n",
    "champions_dict = {champ: id for id, champ in enumerate(champions_set)}\n",
    "del champions_set\n",
    "\n",
    "# Remplacement des noms par les IDs dans chaque colonne pick/ban\n",
    "for col in [\n",
    "    \"pick_blue_1\", \"pick_blue_2\", \"pick_blue_3\", \"pick_blue_4\", \"pick_blue_5\",\n",
    "    \"pick_red_1\", \"pick_red_2\", \"pick_red_3\", \"pick_red_4\", \"pick_red_5\",\n",
    "    \"ban_blue_1\", \"ban_blue_2\", \"ban_blue_3\", \"ban_blue_4\", \"ban_blue_5\",\n",
    "    \"ban_red_1\", \"ban_red_2\", \"ban_red_3\", \"ban_red_4\", \"ban_red_5\"\n",
    "]:\n",
    "    mapped_dataset[col] = dataset[col].apply(lambda x: champions_dict.get(str(x).strip(), -1))\n",
    "\n",
    "# print(f\"Voici un exemple de mapping : {list(champions_dict.items())[:5]}\")\n",
    "# print(f\"\\nVoici un exemple de ligne du dataset mappé :\\n{mapped_dataset.iloc[0]}\")\n"
   ]
  },
  {
   "cell_type": "code",
   "execution_count": 4,
   "id": "d7443c0f",
   "metadata": {},
   "outputs": [],
   "source": [
    "teams_set = set()\n",
    "for col in [\"team_blue\", \"team_red\"]:\n",
    "    for cell in dataset[col]:\n",
    "        if isinstance(cell, str):\n",
    "            teams_set.add(cell.strip())\n",
    "teams_dict = {}\n",
    "for id, team in enumerate(teams_set):\n",
    "    teams_dict[team] = id\n",
    "del teams_set\n",
    "def change_teams_ids(teams):\n",
    "    return teams_dict.get(teams, -1)\n",
    "for col in [\"team_blue\", \"team_red\"]:\n",
    "    mapped_dataset[col] = dataset[col].apply(change_teams_ids)\n",
    "# print(f\"Voici un exemple de mapping : {list(teams_dict.items())[:3]}\")\n",
    "# print(f\"\\nVoici un exemple de ligne du dataset mappé :\\n{mapped_dataset.iloc[0]}\")"
   ]
  },
  {
   "cell_type": "code",
   "execution_count": 5,
   "id": "d5855e3e",
   "metadata": {},
   "outputs": [],
   "source": [
    "league_set = set()\n",
    "for cell in dataset[\"league\"]:\n",
    "    if isinstance(cell, str):\n",
    "        league_set.add(cell.strip())\n",
    "league_dict = {}\n",
    "for id, league in enumerate(league_set):\n",
    "    league_dict[league] = id\n",
    "del league_set\n",
    "mapped_dataset[\"league\"] = dataset[\"league\"].apply(lambda x: league_dict.get(str(x).strip(), -1))\n",
    "# print(f\"\\nVoici un exemple de ligne du dataset mappé :\\n{mapped_dataset.iloc[0]}\")\n"
   ]
  },
  {
   "cell_type": "code",
   "execution_count": 6,
   "id": "f25e64e2",
   "metadata": {},
   "outputs": [
    {
     "name": "stdout",
     "output_type": "stream",
     "text": [
      "Le dataset mappé est prêt pour l'analyse !\n"
     ]
    }
   ],
   "source": [
    "assert mapped_dataset.isnull().sum().sum() == 0, \"Il y a encore des valeurs nulles dans le dataset !\"   \n",
    "assert all([pd.api.types.is_numeric_dtype(mapped_dataset[col]) for col in mapped_dataset.columns if col != \"gameid\"]), \"Le dataset contient des colonnes non numériques !\"\n",
    "assert all(mapped_dataset[\"result\"].isin([0, 1])), \"La colonne 'result' contient des valeurs autres que 0 et 1 !\"\n",
    "print(\"Le dataset mappé est prêt pour l'analyse !\")"
   ]
  },
  {
   "cell_type": "code",
   "execution_count": 7,
   "id": "2c45ee39",
   "metadata": {},
   "outputs": [],
   "source": [
    "X = mapped_dataset.drop(columns=[\"gameid\", \"result\"])\n",
    "y = mapped_dataset[\"result\"]"
   ]
  },
  {
   "cell_type": "code",
   "execution_count": 8,
   "id": "3523bc7f",
   "metadata": {},
   "outputs": [
    {
     "name": "stdout",
     "output_type": "stream",
     "text": [
      "{'bootstrap': True, 'ccp_alpha': 0.0, 'class_weight': None, 'criterion': 'gini', 'max_depth': None, 'max_features': 'sqrt', 'max_leaf_nodes': None, 'max_samples': None, 'min_impurity_decrease': 0.0, 'min_samples_leaf': 1, 'min_samples_split': 2, 'min_weight_fraction_leaf': 0.0, 'monotonic_cst': None, 'n_estimators': 100, 'n_jobs': None, 'oob_score': False, 'random_state': 42, 'verbose': 0, 'warm_start': False}\n",
      "Accuracy: 0.5587743732590529\n",
      "Precision: 0.5474956822107081\n",
      "Recall: 0.3742621015348288\n",
      "F1-score: 0.44460028050490885\n",
      "Confusion matrix:\n",
      " [[686 262]\n",
      " [530 317]]\n",
      "Classification report:\n",
      "               precision    recall  f1-score   support\n",
      "\n",
      "           0       0.56      0.72      0.63       948\n",
      "           1       0.55      0.37      0.44       847\n",
      "\n",
      "    accuracy                           0.56      1795\n",
      "   macro avg       0.56      0.55      0.54      1795\n",
      "weighted avg       0.56      0.56      0.54      1795\n",
      "\n",
      "Ratio de victoires dans le test set: 0.471866295264624\n"
     ]
    }
   ],
   "source": [
    "from sklearn.model_selection import train_test_split\n",
    "from sklearn.metrics import accuracy_score, precision_score, recall_score, f1_score, confusion_matrix, classification_report\n",
    "\n",
    "# Séparation train/test (80% train, 20% test)\n",
    "X_train, X_test, y_train, y_test = train_test_split(X, y, test_size=0.2, random_state=42, stratify=y, shuffle=True)\n",
    "\n",
    "# Exemple d'entraînement et d'évaluation avec un modèle\n",
    "from sklearn.ensemble import RandomForestClassifier\n",
    "\n",
    "model = RandomForestClassifier(random_state=42)\n",
    "model.fit(X_train, y_train)\n",
    "y_pred = model.predict(X_test)\n",
    "print(model.get_params())\n",
    "# Métriques de base\n",
    "print(\"Accuracy:\", accuracy_score(y_test, y_pred)) # (TP + TN) / (TP + TN + FP + FN)\n",
    "print(\"Precision:\", precision_score(y_test, y_pred)) # (TP) / (TP + FP)\n",
    "print(\"Recall:\", recall_score(y_test, y_pred)) # (TP) / (TP + FN)\n",
    "print(\"F1-score:\", f1_score(y_test, y_pred)) # 2 * (Precision * Recall) / (Precision + Recall)\n",
    "print(\"Confusion matrix:\\n\", confusion_matrix(y_test, y_pred))\n",
    "print(\"Classification report:\\n\", classification_report(y_test, y_pred))\n",
    "print(\"Ratio de victoires dans le test set:\", y_test.mean())"
   ]
  },
  {
   "cell_type": "code",
   "execution_count": 9,
   "id": "ca547aa0",
   "metadata": {},
   "outputs": [
    {
     "name": "stdout",
     "output_type": "stream",
     "text": [
      "LogisticRegression accuracy: 0.5247910863509749\n"
     ]
    },
    {
     "name": "stderr",
     "output_type": "stream",
     "text": [
      "/home/mli/miniconda3/envs/ml/lib/python3.12/site-packages/xgboost/core.py:377: FutureWarning: Your system has an old version of glibc (< 2.28). We will stop supporting Linux distros with glibc older than 2.28 after **May 31, 2025**. Please upgrade to a recent Linux distro (with glibc >= 2.28) to use future versions of XGBoost.\n",
      "Note: You have installed the 'manylinux2014' variant of XGBoost. Certain features such as GPU algorithms or federated learning are not available. To use these features, please upgrade to a recent Linux distro with glibc 2.28+, and install the 'manylinux_2_28' variant.\n",
      "  warnings.warn(\n"
     ]
    },
    {
     "name": "stdout",
     "output_type": "stream",
     "text": [
      "GradientBoostingClassifier accuracy: 0.5793871866295265\n",
      "HistGradientBoostingClassifier accuracy: 0.5604456824512535\n",
      "XGBClassifier accuracy: 0.5621169916434541\n",
      "SVC accuracy: 0.5403899721448467\n",
      "KNeighborsClassifier accuracy: 0.5125348189415042\n"
     ]
    }
   ],
   "source": [
    "from sklearn.linear_model import LogisticRegression\n",
    "from sklearn.ensemble import GradientBoostingClassifier, HistGradientBoostingClassifier\n",
    "from xgboost import XGBClassifier\n",
    "from sklearn.svm import SVC\n",
    "from sklearn.neighbors import KNeighborsClassifier\n",
    "\n",
    "# Logistic Regression (baseline rapide)\n",
    "logreg = LogisticRegression(max_iter=1000, random_state=42)\n",
    "logreg.fit(X_train, y_train)\n",
    "print(\"LogisticRegression accuracy:\", logreg.score(X_test, y_test))\n",
    "\n",
    "# Gradient Boosting\n",
    "gb = GradientBoostingClassifier(random_state=42)\n",
    "gb.fit(X_train, y_train)\n",
    "print(\"GradientBoostingClassifier accuracy:\", gb.score(X_test, y_test))\n",
    "\n",
    "# HistGradientBoosting (rapide sur gros jeux de données)\n",
    "hgb = HistGradientBoostingClassifier(random_state=42)\n",
    "hgb.fit(X_train, y_train)\n",
    "print(\"HistGradientBoostingClassifier accuracy:\", hgb.score(X_test, y_test))\n",
    "\n",
    "# XGBoost (nécessite 'pip install xgboost')\n",
    "xgb = XGBClassifier(eval_metric='logloss', random_state=42)\n",
    "xgb.fit(X_train, y_train)\n",
    "print(\"XGBClassifier accuracy:\", xgb.score(X_test, y_test))\n",
    "\n",
    "# SVM (attention, peut être lent si beaucoup de données)\n",
    "svc = SVC(random_state=42)\n",
    "svc.fit(X_train, y_train)\n",
    "print(\"SVC accuracy:\", svc.score(X_test, y_test))\n",
    "\n",
    "# KNN (simple, mais rarement le meilleur sur ce type de données)\n",
    "knn = KNeighborsClassifier()\n",
    "knn.fit(X_train, y_train)\n",
    "print(\"KNeighborsClassifier accuracy:\", knn.score(X_test, y_test))"
   ]
  },
  {
   "cell_type": "code",
   "execution_count": 10,
   "id": "d25383d4",
   "metadata": {},
   "outputs": [
    {
     "name": "stdout",
     "output_type": "stream",
     "text": [
      "Fitting 3 folds for each of 72 candidates, totalling 216 fits\n"
     ]
    },
    {
     "name": "stderr",
     "output_type": "stream",
     "text": [
      "/home/mli/miniconda3/envs/ml/lib/python3.12/site-packages/xgboost/core.py:377: FutureWarning: Your system has an old version of glibc (< 2.28). We will stop supporting Linux distros with glibc older than 2.28 after **May 31, 2025**. Please upgrade to a recent Linux distro (with glibc >= 2.28) to use future versions of XGBoost.\n",
      "Note: You have installed the 'manylinux2014' variant of XGBoost. Certain features such as GPU algorithms or federated learning are not available. To use these features, please upgrade to a recent Linux distro with glibc 2.28+, and install the 'manylinux_2_28' variant.\n",
      "  warnings.warn(\n",
      "/home/mli/miniconda3/envs/ml/lib/python3.12/site-packages/xgboost/core.py:377: FutureWarning: Your system has an old version of glibc (< 2.28). We will stop supporting Linux distros with glibc older than 2.28 after **May 31, 2025**. Please upgrade to a recent Linux distro (with glibc >= 2.28) to use future versions of XGBoost.\n",
      "Note: You have installed the 'manylinux2014' variant of XGBoost. Certain features such as GPU algorithms or federated learning are not available. To use these features, please upgrade to a recent Linux distro with glibc 2.28+, and install the 'manylinux_2_28' variant.\n",
      "  warnings.warn(\n",
      "/home/mli/miniconda3/envs/ml/lib/python3.12/site-packages/xgboost/core.py:377: FutureWarning: Your system has an old version of glibc (< 2.28). We will stop supporting Linux distros with glibc older than 2.28 after **May 31, 2025**. Please upgrade to a recent Linux distro (with glibc >= 2.28) to use future versions of XGBoost.\n",
      "Note: You have installed the 'manylinux2014' variant of XGBoost. Certain features such as GPU algorithms or federated learning are not available. To use these features, please upgrade to a recent Linux distro with glibc 2.28+, and install the 'manylinux_2_28' variant.\n",
      "  warnings.warn(\n",
      "/home/mli/miniconda3/envs/ml/lib/python3.12/site-packages/xgboost/core.py:377: FutureWarning: Your system has an old version of glibc (< 2.28). We will stop supporting Linux distros with glibc older than 2.28 after **May 31, 2025**. Please upgrade to a recent Linux distro (with glibc >= 2.28) to use future versions of XGBoost.\n",
      "Note: You have installed the 'manylinux2014' variant of XGBoost. Certain features such as GPU algorithms or federated learning are not available. To use these features, please upgrade to a recent Linux distro with glibc 2.28+, and install the 'manylinux_2_28' variant.\n",
      "  warnings.warn(\n",
      "/home/mli/miniconda3/envs/ml/lib/python3.12/site-packages/xgboost/core.py:377: FutureWarning: Your system has an old version of glibc (< 2.28). We will stop supporting Linux distros with glibc older than 2.28 after **May 31, 2025**. Please upgrade to a recent Linux distro (with glibc >= 2.28) to use future versions of XGBoost.\n",
      "Note: You have installed the 'manylinux2014' variant of XGBoost. Certain features such as GPU algorithms or federated learning are not available. To use these features, please upgrade to a recent Linux distro with glibc 2.28+, and install the 'manylinux_2_28' variant.\n",
      "  warnings.warn(\n",
      "/home/mli/miniconda3/envs/ml/lib/python3.12/site-packages/xgboost/core.py:377: FutureWarning: Your system has an old version of glibc (< 2.28). We will stop supporting Linux distros with glibc older than 2.28 after **May 31, 2025**. Please upgrade to a recent Linux distro (with glibc >= 2.28) to use future versions of XGBoost.\n",
      "Note: You have installed the 'manylinux2014' variant of XGBoost. Certain features such as GPU algorithms or federated learning are not available. To use these features, please upgrade to a recent Linux distro with glibc 2.28+, and install the 'manylinux_2_28' variant.\n",
      "  warnings.warn(\n",
      "/home/mli/miniconda3/envs/ml/lib/python3.12/site-packages/xgboost/core.py:377: FutureWarning: Your system has an old version of glibc (< 2.28). We will stop supporting Linux distros with glibc older than 2.28 after **May 31, 2025**. Please upgrade to a recent Linux distro (with glibc >= 2.28) to use future versions of XGBoost.\n",
      "Note: You have installed the 'manylinux2014' variant of XGBoost. Certain features such as GPU algorithms or federated learning are not available. To use these features, please upgrade to a recent Linux distro with glibc 2.28+, and install the 'manylinux_2_28' variant.\n",
      "  warnings.warn(\n",
      "/home/mli/miniconda3/envs/ml/lib/python3.12/site-packages/xgboost/core.py:377: FutureWarning: Your system has an old version of glibc (< 2.28). We will stop supporting Linux distros with glibc older than 2.28 after **May 31, 2025**. Please upgrade to a recent Linux distro (with glibc >= 2.28) to use future versions of XGBoost.\n",
      "Note: You have installed the 'manylinux2014' variant of XGBoost. Certain features such as GPU algorithms or federated learning are not available. To use these features, please upgrade to a recent Linux distro with glibc 2.28+, and install the 'manylinux_2_28' variant.\n",
      "  warnings.warn(\n",
      "/home/mli/miniconda3/envs/ml/lib/python3.12/site-packages/xgboost/core.py:377: FutureWarning: Your system has an old version of glibc (< 2.28). We will stop supporting Linux distros with glibc older than 2.28 after **May 31, 2025**. Please upgrade to a recent Linux distro (with glibc >= 2.28) to use future versions of XGBoost.\n",
      "Note: You have installed the 'manylinux2014' variant of XGBoost. Certain features such as GPU algorithms or federated learning are not available. To use these features, please upgrade to a recent Linux distro with glibc 2.28+, and install the 'manylinux_2_28' variant.\n",
      "  warnings.warn(\n",
      "/home/mli/miniconda3/envs/ml/lib/python3.12/site-packages/xgboost/core.py:377: FutureWarning: Your system has an old version of glibc (< 2.28). We will stop supporting Linux distros with glibc older than 2.28 after **May 31, 2025**. Please upgrade to a recent Linux distro (with glibc >= 2.28) to use future versions of XGBoost.\n",
      "Note: You have installed the 'manylinux2014' variant of XGBoost. Certain features such as GPU algorithms or federated learning are not available. To use these features, please upgrade to a recent Linux distro with glibc 2.28+, and install the 'manylinux_2_28' variant.\n",
      "  warnings.warn(\n",
      "/home/mli/miniconda3/envs/ml/lib/python3.12/site-packages/xgboost/core.py:377: FutureWarning: Your system has an old version of glibc (< 2.28). We will stop supporting Linux distros with glibc older than 2.28 after **May 31, 2025**. Please upgrade to a recent Linux distro (with glibc >= 2.28) to use future versions of XGBoost.\n",
      "Note: You have installed the 'manylinux2014' variant of XGBoost. Certain features such as GPU algorithms or federated learning are not available. To use these features, please upgrade to a recent Linux distro with glibc 2.28+, and install the 'manylinux_2_28' variant.\n",
      "  warnings.warn(\n",
      "/home/mli/miniconda3/envs/ml/lib/python3.12/site-packages/xgboost/core.py:377: FutureWarning: Your system has an old version of glibc (< 2.28). We will stop supporting Linux distros with glibc older than 2.28 after **May 31, 2025**. Please upgrade to a recent Linux distro (with glibc >= 2.28) to use future versions of XGBoost.\n",
      "Note: You have installed the 'manylinux2014' variant of XGBoost. Certain features such as GPU algorithms or federated learning are not available. To use these features, please upgrade to a recent Linux distro with glibc 2.28+, and install the 'manylinux_2_28' variant.\n",
      "  warnings.warn(\n",
      "/home/mli/miniconda3/envs/ml/lib/python3.12/site-packages/xgboost/core.py:377: FutureWarning: Your system has an old version of glibc (< 2.28). We will stop supporting Linux distros with glibc older than 2.28 after **May 31, 2025**. Please upgrade to a recent Linux distro (with glibc >= 2.28) to use future versions of XGBoost.\n",
      "Note: You have installed the 'manylinux2014' variant of XGBoost. Certain features such as GPU algorithms or federated learning are not available. To use these features, please upgrade to a recent Linux distro with glibc 2.28+, and install the 'manylinux_2_28' variant.\n",
      "  warnings.warn(\n",
      "/home/mli/miniconda3/envs/ml/lib/python3.12/site-packages/xgboost/core.py:377: FutureWarning: Your system has an old version of glibc (< 2.28). We will stop supporting Linux distros with glibc older than 2.28 after **May 31, 2025**. Please upgrade to a recent Linux distro (with glibc >= 2.28) to use future versions of XGBoost.\n",
      "Note: You have installed the 'manylinux2014' variant of XGBoost. Certain features such as GPU algorithms or federated learning are not available. To use these features, please upgrade to a recent Linux distro with glibc 2.28+, and install the 'manylinux_2_28' variant.\n",
      "  warnings.warn(\n",
      "/home/mli/miniconda3/envs/ml/lib/python3.12/site-packages/xgboost/core.py:377: FutureWarning: Your system has an old version of glibc (< 2.28). We will stop supporting Linux distros with glibc older than 2.28 after **May 31, 2025**. Please upgrade to a recent Linux distro (with glibc >= 2.28) to use future versions of XGBoost.\n",
      "Note: You have installed the 'manylinux2014' variant of XGBoost. Certain features such as GPU algorithms or federated learning are not available. To use these features, please upgrade to a recent Linux distro with glibc 2.28+, and install the 'manylinux_2_28' variant.\n",
      "  warnings.warn(\n",
      "/home/mli/miniconda3/envs/ml/lib/python3.12/site-packages/xgboost/core.py:377: FutureWarning: Your system has an old version of glibc (< 2.28). We will stop supporting Linux distros with glibc older than 2.28 after **May 31, 2025**. Please upgrade to a recent Linux distro (with glibc >= 2.28) to use future versions of XGBoost.\n",
      "Note: You have installed the 'manylinux2014' variant of XGBoost. Certain features such as GPU algorithms or federated learning are not available. To use these features, please upgrade to a recent Linux distro with glibc 2.28+, and install the 'manylinux_2_28' variant.\n",
      "  warnings.warn(\n",
      "/home/mli/miniconda3/envs/ml/lib/python3.12/site-packages/xgboost/core.py:377: FutureWarning: Your system has an old version of glibc (< 2.28). We will stop supporting Linux distros with glibc older than 2.28 after **May 31, 2025**. Please upgrade to a recent Linux distro (with glibc >= 2.28) to use future versions of XGBoost.\n",
      "Note: You have installed the 'manylinux2014' variant of XGBoost. Certain features such as GPU algorithms or federated learning are not available. To use these features, please upgrade to a recent Linux distro with glibc 2.28+, and install the 'manylinux_2_28' variant.\n",
      "  warnings.warn(\n",
      "/home/mli/miniconda3/envs/ml/lib/python3.12/site-packages/xgboost/core.py:377: FutureWarning: Your system has an old version of glibc (< 2.28). We will stop supporting Linux distros with glibc older than 2.28 after **May 31, 2025**. Please upgrade to a recent Linux distro (with glibc >= 2.28) to use future versions of XGBoost.\n",
      "Note: You have installed the 'manylinux2014' variant of XGBoost. Certain features such as GPU algorithms or federated learning are not available. To use these features, please upgrade to a recent Linux distro with glibc 2.28+, and install the 'manylinux_2_28' variant.\n",
      "  warnings.warn(\n",
      "/home/mli/miniconda3/envs/ml/lib/python3.12/site-packages/xgboost/core.py:377: FutureWarning: Your system has an old version of glibc (< 2.28). We will stop supporting Linux distros with glibc older than 2.28 after **May 31, 2025**. Please upgrade to a recent Linux distro (with glibc >= 2.28) to use future versions of XGBoost.\n",
      "Note: You have installed the 'manylinux2014' variant of XGBoost. Certain features such as GPU algorithms or federated learning are not available. To use these features, please upgrade to a recent Linux distro with glibc 2.28+, and install the 'manylinux_2_28' variant.\n",
      "  warnings.warn(\n",
      "/home/mli/miniconda3/envs/ml/lib/python3.12/site-packages/xgboost/core.py:377: FutureWarning: Your system has an old version of glibc (< 2.28). We will stop supporting Linux distros with glibc older than 2.28 after **May 31, 2025**. Please upgrade to a recent Linux distro (with glibc >= 2.28) to use future versions of XGBoost.\n",
      "Note: You have installed the 'manylinux2014' variant of XGBoost. Certain features such as GPU algorithms or federated learning are not available. To use these features, please upgrade to a recent Linux distro with glibc 2.28+, and install the 'manylinux_2_28' variant.\n",
      "  warnings.warn(\n"
     ]
    },
    {
     "name": "stdout",
     "output_type": "stream",
     "text": [
      "Meilleurs paramètres : {'colsample_bytree': 0.8, 'learning_rate': 0.1, 'max_depth': 10, 'n_estimators': 100, 'subsample': 0.8}\n",
      "Meilleur score de validation croisée : 0.5546265328874025\n",
      "Accuracy: 0.5376044568245125\n",
      "Precision: 0.5112881806108898\n",
      "Recall: 0.45454545454545453\n",
      "F1-score: 0.48125\n",
      "Confusion matrix:\n",
      " [[580 368]\n",
      " [462 385]]\n",
      "Classification report:\n",
      "               precision    recall  f1-score   support\n",
      "\n",
      "           0       0.56      0.61      0.58       948\n",
      "           1       0.51      0.45      0.48       847\n",
      "\n",
      "    accuracy                           0.54      1795\n",
      "   macro avg       0.53      0.53      0.53      1795\n",
      "weighted avg       0.54      0.54      0.53      1795\n",
      "\n"
     ]
    }
   ],
   "source": [
    "from sklearn.model_selection import GridSearchCV\n",
    "\n",
    "param_grid = {\n",
    "    'n_estimators': [100, 200],\n",
    "    'max_depth': [3, 6, 10],\n",
    "    'learning_rate': [0.01, 0.1, 0.2],\n",
    "    'subsample': [0.8, 1.0],\n",
    "    'colsample_bytree': [0.8, 1.0]\n",
    "}\n",
    "\n",
    "grid_search = GridSearchCV(\n",
    "    estimator=XGBClassifier(eval_metric='logloss', random_state=42),\n",
    "    param_grid=param_grid,\n",
    "    cv=3,\n",
    "    scoring='accuracy',\n",
    "    n_jobs=-1,\n",
    "    verbose=1\n",
    ")\n",
    "\n",
    "grid_search.fit(X_train, y_train)\n",
    "\n",
    "print(\"Meilleurs paramètres :\", grid_search.best_params_)\n",
    "print(\"Meilleur score de validation croisée :\", grid_search.best_score_)\n",
    "\n",
    "# Évaluation sur le test set\n",
    "best_model = grid_search.best_estimator_\n",
    "y_pred = best_model.predict(X_test)\n",
    "print(\"Accuracy:\", accuracy_score(y_test, y_pred))\n",
    "print(\"Precision:\", precision_score(y_test, y_pred))\n",
    "print(\"Recall:\", recall_score(y_test, y_pred))\n",
    "print(\"F1-score:\", f1_score(y_test, y_pred))\n",
    "print(\"Confusion matrix:\\n\", confusion_matrix(y_test, y_pred))\n",
    "print(\"Classification report:\\n\", classification_report(y_test, y_pred))"
   ]
  }
 ],
 "metadata": {
  "kernelspec": {
   "display_name": "ml",
   "language": "python",
   "name": "python3"
  },
  "language_info": {
   "codemirror_mode": {
    "name": "ipython",
    "version": 3
   },
   "file_extension": ".py",
   "mimetype": "text/x-python",
   "name": "python",
   "nbconvert_exporter": "python",
   "pygments_lexer": "ipython3",
   "version": "3.12.11"
  }
 },
 "nbformat": 4,
 "nbformat_minor": 5
}
